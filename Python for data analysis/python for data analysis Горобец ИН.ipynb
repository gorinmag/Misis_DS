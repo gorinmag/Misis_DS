{
 "cells": [
  {
   "cell_type": "markdown",
   "metadata": {},
   "source": [
    "## Numpy\n",
    "\n",
    "### Создание массивов:\n",
    "- Создайте одномерный массив NumPy из целых чисел от 0 до 9.\n",
    "- Создайте двумерный массив NumPy размером (3, 3), содержащий случайные целые числа от 1 до 10.\n",
    "\n",
    "### Операции с массивами: \n",
    "- Выполните поэлементное сложение, вычитание, умножение и деление для одномерного массива, созданного на шаге 1.\n",
    "- Найдите скалярное произведение одномерного массива с самим собой.\n",
    "\n",
    "### Индексация и срезы массивов:\n",
    "- Извлеките второй и третий элементы из одномерного массива.\n",
    "- Извлеките первую строку и последний столбец из двумерного массива.\n",
    "- Извлеките элементы из двумерного массива, которые больше 5.\n",
    "- Измените значения всех элементов в первом столбце двумерного массива на 0.\n",
    "- Извлеките диагональные элементы двумерного массива.\n",
    "\n",
    "### Статистические операции:\n",
    "- Вычислите среднее значение, медиану и стандартное отклонение для одномерного массива.\n",
    "- Найдите максимальные и минимальные значения в двумерном массиве и их индексы.\n",
    "\n",
    "### Изменение формы и транспонирование:\n",
    "- Измените форму одномерного массива на двумерный массив размером (2, 5).\n",
    "- Транспонируйте измененный массив.\n",
    "\n",
    "### Булева индексация:\n",
    "- Создайте булеву маску для двумерного массива, где значения четные.\n",
    "- Используйте эту маску для извлечения элементов из двумерного массива, которые являются четными.\n",
    "- Замените все элементы в двумерном массиве, которые меньше 5, на -1."
   ]
  },
  {
   "cell_type": "code",
   "execution_count": 2,
   "metadata": {},
   "outputs": [
    {
     "data": {
      "text/plain": [
       "array([[1, 2, 3],\n",
       "       [4, 5, 6],\n",
       "       [7, 8, 9]])"
      ]
     },
     "execution_count": 2,
     "metadata": {},
     "output_type": "execute_result"
    }
   ],
   "source": [
    "\n",
    "import numpy as np\n",
    "#Создание массива Numpy\n",
    "array_one  = np.arange(0,10)\n",
    "array_one\n",
    "array_two = np.reshape(array_one[1::], (3,3))\n",
    "array_two"
   ]
  },
  {
   "cell_type": "code",
   "execution_count": 3,
   "metadata": {},
   "outputs": [
    {
     "name": "stdout",
     "output_type": "stream",
     "text": [
      "Сложение: [ 0  2  4  6  8 10 12 14 16 18] \n",
      "Вычитание [0 0 0 0 0 0 0 0 0 0] \n",
      "Умножение [ 0  1  4  9 16 25 36 49 64 81] \n",
      "Деление [       inf 1.         0.5        0.33333333 0.25       0.2\n",
      " 0.16666667 0.14285714 0.125      0.11111111]\n",
      "Скалярное произведение: 285\n"
     ]
    },
    {
     "name": "stderr",
     "output_type": "stream",
     "text": [
      "C:\\Users\\Иван\\AppData\\Local\\Temp\\ipykernel_18540\\4039530005.py:5: RuntimeWarning: divide by zero encountered in divide\n",
      "  div_array_one = 1/array_one\n"
     ]
    }
   ],
   "source": [
    "#Операции с массивами\n",
    "sum_array_one = array_one+array_one\n",
    "subtract_array_one = array_one - array_one\n",
    "multipy_array_one = array_one*array_one\n",
    "div_array_one = 1/array_one\n",
    "print(f'Сложение: {sum_array_one} \\nВычитание {subtract_array_one} \\nУмножение {multipy_array_one} \\nДеление {div_array_one}')\n",
    "\n",
    "#Скалярное произведение векторов\n",
    "dot_array_one = np.dot(array_one, array_one)\n",
    "print(f'Скалярное произведение: {dot_array_one}')\n",
    "\n"
   ]
  },
  {
   "cell_type": "code",
   "execution_count": 4,
   "metadata": {},
   "outputs": [
    {
     "name": "stdout",
     "output_type": "stream",
     "text": [
      "второй и третий элемент: [1 2]\n",
      "Первая строка двумерного массива: [1 2 3]\n",
      "Последний столбец двумерного массива: [3 6 9]\n",
      "Элементы больше 5: [6 7 8 9]\n",
      "Первый стобец заменен на 0\n",
      " [[0 2 3]\n",
      " [0 5 6]\n",
      " [0 8 9]]\n",
      "Диагональ: [1 5 9]\n"
     ]
    }
   ],
   "source": [
    "#Индексация и срезы\n",
    "print(f'второй и третий элемент: {array_one[1:3]}')\n",
    "print(f'Первая строка двумерного массива: {array_two[0]}')\n",
    "print(f'Последний столбец двумерного массива: {array_two[:,2]}')\n",
    "condition = array_two > 5\n",
    "print(f'Элементы больше 5: {array_two[array_two>5]}')\n",
    "array_three = np.copy(array_two)\n",
    "array_three[:,0] = 0\n",
    "print(f'Первый стобец заменен на 0\\n {array_three}')\n",
    "print(f'Диагональ: {np.diag(array_two)}')"
   ]
  },
  {
   "cell_type": "code",
   "execution_count": 5,
   "metadata": {},
   "outputs": [
    {
     "name": "stdout",
     "output_type": "stream",
     "text": [
      "Среднее значение: 4.5\n",
      "Медиана: 4.5\n",
      "Стандартное отклонение: 2.8722813232690143\n",
      "Минимальное значеие: 1\n",
      "Минимальное значеие: 9\n",
      "Индексы минимума: (array([0], dtype=int64), array([0], dtype=int64))\n",
      "Индексы максимума: (array([2], dtype=int64), array([2], dtype=int64))\n"
     ]
    }
   ],
   "source": [
    "#Статистические операции\n",
    "print(f'Среднее значение: {np.mean(array_one)}')\n",
    "print(f'Медиана: {np.median(array_one)}')\n",
    "print(f'Стандартное отклонение: {np.std(array_one)}')\n",
    "\n",
    "print(f'Минимальное значеие: {np.min(array_two)}')\n",
    "print(f'Минимальное значеие: {np.max(array_two)}')\n",
    "\n",
    "print(f'Индексы минимума: {np.where(array_two == np.min(array_two))}')\n",
    "print(f'Индексы максимума: {np.where(array_two == np.max(array_two))}')\n"
   ]
  },
  {
   "cell_type": "code",
   "execution_count": 6,
   "metadata": {},
   "outputs": [
    {
     "name": "stdout",
     "output_type": "stream",
     "text": [
      "Измененная матрица:\n",
      " [[0 1 2 3 4]\n",
      " [5 6 7 8 9]]\n",
      "Транспонированная матрица:\n",
      " [[0 5]\n",
      " [1 6]\n",
      " [2 7]\n",
      " [3 8]\n",
      " [4 9]]\n"
     ]
    }
   ],
   "source": [
    "#Изменение формы и транспонирование\n",
    "array_reshape = np.reshape(array_one, (2,5)) \n",
    "print(f'Измененная матрица:\\n {array_reshape}')\n",
    "\n",
    "array_transp = np.transpose(array_reshape)\n",
    "print(f'Транспонированная матрица:\\n {array_transp}')"
   ]
  },
  {
   "cell_type": "code",
   "execution_count": 7,
   "metadata": {},
   "outputs": [
    {
     "name": "stdout",
     "output_type": "stream",
     "text": [
      "Маска для четных значений: \n",
      " [[False  True False]\n",
      " [ True False  True]\n",
      " [False  True False]]\n",
      "Четные элементы: [2 4 6 8]\n",
      "Изменный массив: \n",
      "[[-1 -1 -1]\n",
      " [-1  5  6]\n",
      " [ 7  8  9]]\n"
     ]
    }
   ],
   "source": [
    "#Булева индексация\n",
    "contain = array_two % 2 == 0 \n",
    "print(f'Маска для четных значений: \\n {contain}')\n",
    "print(f'Четные элементы: {array_two[contain]}')\n",
    "array_two[array_two < 5] = -1\n",
    "print(f'Изменный массив: \\n{array_two}')\n",
    "\n"
   ]
  },
  {
   "cell_type": "markdown",
   "metadata": {},
   "source": [
    "## Pandas\n",
    "\n",
    "#### Задание 1: Загрузка и первичный анализ данных\n",
    "- Загрузите данные из файла use_type.csv в DataFrame.\n",
    "- Выведите первые 5 строк DataFrame для ознакомления с данными.\n",
    "\n",
    "##### Общая информация:\n",
    "\n",
    "- Выведите общую информацию о DataFrame, включая количество строк и столбцов, типы данных и количество ненулевых значений в каждом столбце.\n",
    "- Выведите статистическое описание числовых столбцов DataFrame.\n",
    "\n",
    "#### Задание 2: Очистка данных\n",
    "##### Обработка пропущенных значений:\n",
    "\n",
    "- Проверьте наличие пропущенных значений в каждом столбце.\n",
    "- Заполните пропущенные значения в столбце use_meters средним значением этого столбца.\n",
    "- Заполните пропущенные значения в столбце use_country строкой \"Unknown\".\n",
    "\n",
    "##### Удаление дубликатов:\n",
    "\n",
    "- Проверьте наличие дубликатов строк в DataFrame.\n",
    "- Удалите дубликаты, если они есть.\n",
    "\n",
    "#### Задание 3: Анализ данных\n",
    "##### Анализ по годам:\n",
    "\n",
    "- Посчитайте количество записей для каждого года.\n",
    "- Постройте график распределения количества записей по годам.\n",
    "\n",
    "##### Анализ по государственным агентствам:\n",
    "\n",
    "- Найдите топ-5 государственных агентств с наибольшим количеством записей.\n",
    "- Постройте график распределения количества записей для этих агентств.\n",
    "\n",
    "##### Анализ по типу использования:\n",
    "\n",
    "- Посчитайте общее количество метров для каждого типа использования (use_type).\n",
    "- Постройте график распределения общего количества метров по типам использования.\n",
    "\n",
    "#### Задание 4: Группировка и агрегация данных\n",
    "\n",
    "##### Группировка по годам и государственным агентствам:\n",
    "\n",
    "- Сгруппируйте данные по годам и государственным агентствам и посчитайте общее количество метров для каждой группы.\n",
    "- Постройте сводную таблицу для этих данных.\n",
    "\n",
    "##### Анализ по должностям:\n",
    "\n",
    "- Найдите топ-5 должностей с наибольшим количеством записей.\n",
    "- Посчитайте среднее количество метров для каждой из этих должностей."
   ]
  },
  {
   "cell_type": "code",
   "execution_count": 8,
   "metadata": {},
   "outputs": [
    {
     "data": {
      "text/html": [
       "<div>\n",
       "<style scoped>\n",
       "    .dataframe tbody tr th:only-of-type {\n",
       "        vertical-align: middle;\n",
       "    }\n",
       "\n",
       "    .dataframe tbody tr th {\n",
       "        vertical-align: top;\n",
       "    }\n",
       "\n",
       "    .dataframe thead th {\n",
       "        text-align: right;\n",
       "    }\n",
       "</style>\n",
       "<table border=\"1\" class=\"dataframe\">\n",
       "  <thead>\n",
       "    <tr style=\"text-align: right;\">\n",
       "      <th></th>\n",
       "      <th>year</th>\n",
       "      <th>state_agency</th>\n",
       "      <th>name</th>\n",
       "      <th>position</th>\n",
       "      <th>position_standard</th>\n",
       "      <th>family</th>\n",
       "      <th>use_type</th>\n",
       "      <th>use_meters</th>\n",
       "      <th>use_country</th>\n",
       "    </tr>\n",
       "  </thead>\n",
       "  <tbody>\n",
       "    <tr>\n",
       "      <th>0</th>\n",
       "      <td>2013</td>\n",
       "      <td>digital</td>\n",
       "      <td>Абрамов Глеб Авоевич</td>\n",
       "      <td>заместитель директора департамента реализации ...</td>\n",
       "      <td>заместитель директора департамента</td>\n",
       "      <td>чиновник</td>\n",
       "      <td>квартира</td>\n",
       "      <td>35.00</td>\n",
       "      <td>Россия</td>\n",
       "    </tr>\n",
       "    <tr>\n",
       "      <th>1</th>\n",
       "      <td>2013</td>\n",
       "      <td>digital</td>\n",
       "      <td>Абрамов Глеб Авоевич</td>\n",
       "      <td>заместитель директора департамента реализации ...</td>\n",
       "      <td>заместитель директора департамента</td>\n",
       "      <td>чиновник</td>\n",
       "      <td>NaN</td>\n",
       "      <td>0.00</td>\n",
       "      <td>NaN</td>\n",
       "    </tr>\n",
       "    <tr>\n",
       "      <th>2</th>\n",
       "      <td>2013</td>\n",
       "      <td>digital</td>\n",
       "      <td>Абрамов Глеб Авоевич</td>\n",
       "      <td>заместитель директора департамента реализации ...</td>\n",
       "      <td>заместитель директора департамента</td>\n",
       "      <td>чиновник</td>\n",
       "      <td>NaN</td>\n",
       "      <td>0.00</td>\n",
       "      <td>NaN</td>\n",
       "    </tr>\n",
       "    <tr>\n",
       "      <th>3</th>\n",
       "      <td>2013</td>\n",
       "      <td>digital</td>\n",
       "      <td>Абрамов Глеб Авоевич</td>\n",
       "      <td>заместитель директора департамента реализации ...</td>\n",
       "      <td>заместитель директора департамента</td>\n",
       "      <td>супруга</td>\n",
       "      <td>квартира</td>\n",
       "      <td>55.62</td>\n",
       "      <td>Россия</td>\n",
       "    </tr>\n",
       "    <tr>\n",
       "      <th>4</th>\n",
       "      <td>2013</td>\n",
       "      <td>digital</td>\n",
       "      <td>Абрамов Глеб Авоевич</td>\n",
       "      <td>заместитель директора департамента реализации ...</td>\n",
       "      <td>заместитель директора департамента</td>\n",
       "      <td>супруга</td>\n",
       "      <td>квартира</td>\n",
       "      <td>35.00</td>\n",
       "      <td>Россия</td>\n",
       "    </tr>\n",
       "  </tbody>\n",
       "</table>\n",
       "</div>"
      ],
      "text/plain": [
       "   year state_agency                  name  \\\n",
       "0  2013      digital  Абрамов Глеб Авоевич   \n",
       "1  2013      digital  Абрамов Глеб Авоевич   \n",
       "2  2013      digital  Абрамов Глеб Авоевич   \n",
       "3  2013      digital  Абрамов Глеб Авоевич   \n",
       "4  2013      digital  Абрамов Глеб Авоевич   \n",
       "\n",
       "                                            position  \\\n",
       "0  заместитель директора департамента реализации ...   \n",
       "1  заместитель директора департамента реализации ...   \n",
       "2  заместитель директора департамента реализации ...   \n",
       "3  заместитель директора департамента реализации ...   \n",
       "4  заместитель директора департамента реализации ...   \n",
       "\n",
       "                    position_standard    family  use_type  use_meters  \\\n",
       "0  заместитель директора департамента  чиновник  квартира       35.00   \n",
       "1  заместитель директора департамента  чиновник       NaN        0.00   \n",
       "2  заместитель директора департамента  чиновник       NaN        0.00   \n",
       "3  заместитель директора департамента   супруга  квартира       55.62   \n",
       "4  заместитель директора департамента   супруга  квартира       35.00   \n",
       "\n",
       "  use_country  \n",
       "0      Россия  \n",
       "1         NaN  \n",
       "2         NaN  \n",
       "3      Россия  \n",
       "4      Россия  "
      ]
     },
     "execution_count": 8,
     "metadata": {},
     "output_type": "execute_result"
    }
   ],
   "source": [
    "#Задани 1\n",
    "#Загрузка и превичный анализ данных\n",
    "import pandas as pd\n",
    "df = pd.read_csv('dataset.csv',sep=';',decimal='.')\n",
    "#Заменю точку на запятую - очевидно это разделитель десятичной дроби\n",
    "df['use_meters'] = df['use_meters'].str.replace(',', '.')\n",
    "#Переведу в числовое use_meters Игнорирую ошибки - сложно интерпретируемые значения\n",
    "df['use_meters'] = pd.to_numeric(df['use_meters'],errors='coerce')\n",
    "df.head(5)\n"
   ]
  },
  {
   "cell_type": "code",
   "execution_count": 9,
   "metadata": {},
   "outputs": [
    {
     "name": "stdout",
     "output_type": "stream",
     "text": [
      "<class 'pandas.core.frame.DataFrame'>\n",
      "RangeIndex: 88071 entries, 0 to 88070\n",
      "Data columns (total 9 columns):\n",
      " #   Column             Non-Null Count  Dtype  \n",
      "---  ------             --------------  -----  \n",
      " 0   year               88071 non-null  int64  \n",
      " 1   state_agency       88071 non-null  object \n",
      " 2   name               88071 non-null  object \n",
      " 3   position           88071 non-null  object \n",
      " 4   position_standard  88071 non-null  object \n",
      " 5   family             88071 non-null  object \n",
      " 6   use_type           41458 non-null  object \n",
      " 7   use_meters         41594 non-null  float64\n",
      " 8   use_country        40774 non-null  object \n",
      "dtypes: float64(1), int64(1), object(7)\n",
      "memory usage: 6.0+ MB\n"
     ]
    }
   ],
   "source": [
    "#Общая информация\n",
    "df.info()"
   ]
  },
  {
   "cell_type": "code",
   "execution_count": 10,
   "metadata": {},
   "outputs": [
    {
     "data": {
      "text/html": [
       "<div>\n",
       "<style scoped>\n",
       "    .dataframe tbody tr th:only-of-type {\n",
       "        vertical-align: middle;\n",
       "    }\n",
       "\n",
       "    .dataframe tbody tr th {\n",
       "        vertical-align: top;\n",
       "    }\n",
       "\n",
       "    .dataframe thead th {\n",
       "        text-align: right;\n",
       "    }\n",
       "</style>\n",
       "<table border=\"1\" class=\"dataframe\">\n",
       "  <thead>\n",
       "    <tr style=\"text-align: right;\">\n",
       "      <th></th>\n",
       "      <th>year</th>\n",
       "      <th>use_meters</th>\n",
       "    </tr>\n",
       "  </thead>\n",
       "  <tbody>\n",
       "    <tr>\n",
       "      <th>count</th>\n",
       "      <td>88071.000000</td>\n",
       "      <td>4.159400e+04</td>\n",
       "    </tr>\n",
       "    <tr>\n",
       "      <th>mean</th>\n",
       "      <td>2016.617967</td>\n",
       "      <td>4.552826e+02</td>\n",
       "    </tr>\n",
       "    <tr>\n",
       "      <th>std</th>\n",
       "      <td>2.243814</td>\n",
       "      <td>1.752505e+04</td>\n",
       "    </tr>\n",
       "    <tr>\n",
       "      <th>min</th>\n",
       "      <td>2013.000000</td>\n",
       "      <td>0.000000e+00</td>\n",
       "    </tr>\n",
       "    <tr>\n",
       "      <th>25%</th>\n",
       "      <td>2015.000000</td>\n",
       "      <td>4.530000e+01</td>\n",
       "    </tr>\n",
       "    <tr>\n",
       "      <th>50%</th>\n",
       "      <td>2017.000000</td>\n",
       "      <td>6.187500e+01</td>\n",
       "    </tr>\n",
       "    <tr>\n",
       "      <th>75%</th>\n",
       "      <td>2019.000000</td>\n",
       "      <td>8.300000e+01</td>\n",
       "    </tr>\n",
       "    <tr>\n",
       "      <th>max</th>\n",
       "      <td>2020.000000</td>\n",
       "      <td>1.598997e+06</td>\n",
       "    </tr>\n",
       "  </tbody>\n",
       "</table>\n",
       "</div>"
      ],
      "text/plain": [
       "               year    use_meters\n",
       "count  88071.000000  4.159400e+04\n",
       "mean    2016.617967  4.552826e+02\n",
       "std        2.243814  1.752505e+04\n",
       "min     2013.000000  0.000000e+00\n",
       "25%     2015.000000  4.530000e+01\n",
       "50%     2017.000000  6.187500e+01\n",
       "75%     2019.000000  8.300000e+01\n",
       "max     2020.000000  1.598997e+06"
      ]
     },
     "execution_count": 10,
     "metadata": {},
     "output_type": "execute_result"
    }
   ],
   "source": [
    "#Статиттическое описание числовых столбцов\n",
    "df.describe()"
   ]
  },
  {
   "cell_type": "code",
   "execution_count": 11,
   "metadata": {},
   "outputs": [
    {
     "data": {
      "text/plain": [
       "year                     0\n",
       "state_agency             0\n",
       "name                     0\n",
       "position                 0\n",
       "position_standard        0\n",
       "family                   0\n",
       "use_type             46613\n",
       "use_meters           46477\n",
       "use_country          47297\n",
       "dtype: int64"
      ]
     },
     "execution_count": 11,
     "metadata": {},
     "output_type": "execute_result"
    }
   ],
   "source": [
    "#Задание 2 Очистка данных\n",
    "#Проверка пропущенных значений\n",
    "df.isna().sum()"
   ]
  },
  {
   "cell_type": "code",
   "execution_count": 12,
   "metadata": {},
   "outputs": [
    {
     "name": "stdout",
     "output_type": "stream",
     "text": [
      "Среднее значение use_meters -  455.28256080203863\n",
      "<class 'pandas.core.frame.DataFrame'>\n",
      "RangeIndex: 88071 entries, 0 to 88070\n",
      "Data columns (total 9 columns):\n",
      " #   Column             Non-Null Count  Dtype  \n",
      "---  ------             --------------  -----  \n",
      " 0   year               88071 non-null  int64  \n",
      " 1   state_agency       88071 non-null  object \n",
      " 2   name               88071 non-null  object \n",
      " 3   position           88071 non-null  object \n",
      " 4   position_standard  88071 non-null  object \n",
      " 5   family             88071 non-null  object \n",
      " 6   use_type           41458 non-null  object \n",
      " 7   use_meters         88071 non-null  float64\n",
      " 8   use_country        88071 non-null  object \n",
      "dtypes: float64(1), int64(1), object(7)\n",
      "memory usage: 6.0+ MB\n"
     ]
    }
   ],
   "source": [
    "#Обработка пропущенных значений\n",
    "print(\"Среднее значение use_meters - \",df['use_meters'].mean())\n",
    "df['use_meters'].fillna(df['use_meters'].mean(), inplace = True)\n",
    "df['use_country'].fillna('Unknown', inplace = True)\n",
    "df.info()\n"
   ]
  },
  {
   "cell_type": "code",
   "execution_count": 13,
   "metadata": {},
   "outputs": [
    {
     "name": "stdout",
     "output_type": "stream",
     "text": [
      "Кол-во дублируемых строк: 30004\n",
      "<class 'pandas.core.frame.DataFrame'>\n",
      "Int64Index: 58067 entries, 0 to 88069\n",
      "Data columns (total 9 columns):\n",
      " #   Column             Non-Null Count  Dtype  \n",
      "---  ------             --------------  -----  \n",
      " 0   year               58067 non-null  int64  \n",
      " 1   state_agency       58067 non-null  object \n",
      " 2   name               58067 non-null  object \n",
      " 3   position           58067 non-null  object \n",
      " 4   position_standard  58067 non-null  object \n",
      " 5   family             58067 non-null  object \n",
      " 6   use_type           36120 non-null  object \n",
      " 7   use_meters         58067 non-null  float64\n",
      " 8   use_country        58067 non-null  object \n",
      "dtypes: float64(1), int64(1), object(7)\n",
      "memory usage: 4.4+ MB\n"
     ]
    }
   ],
   "source": [
    "#Удаление дубликатов\n",
    "check_dubl = df.duplicated()\n",
    "print(\"Кол-во дублируемых строк:\", check_dubl.sum())\n",
    "df_without_dup = df.drop_duplicates()\n",
    "df_without_dup.info()\n"
   ]
  },
  {
   "cell_type": "code",
   "execution_count": 14,
   "metadata": {},
   "outputs": [
    {
     "data": {
      "text/plain": [
       "{2017: 7979,\n",
       " 2018: 7805,\n",
       " 2019: 7460,\n",
       " 2016: 7371,\n",
       " 2020: 7226,\n",
       " 2015: 7184,\n",
       " 2013: 6805,\n",
       " 2014: 6237}"
      ]
     },
     "execution_count": 14,
     "metadata": {},
     "output_type": "execute_result"
    }
   ],
   "source": [
    "#Задание 3 Анализ данных\n",
    "#Анализ по годам\n",
    "sum_year= dict(df_without_dup['year'].value_counts())\n",
    "sum_year"
   ]
  },
  {
   "cell_type": "code",
   "execution_count": 15,
   "metadata": {},
   "outputs": [
    {
     "data": {
      "image/png": "[encoded data removed]",
      "text/plain": [
       "<Figure size 432x288 with 1 Axes>"
      ]
     },
     "metadata": {
      "needs_background": "light"
     },
     "output_type": "display_data"
    }
   ],
   "source": [
    "import matplotlib.pyplot as plt\n",
    "plt.title('Распределение записей по годам')\n",
    "plt.bar(sum_year.keys(),sum_year.values())\n",
    "plt.xlabel('Год')\n",
    "plt.ylabel('Кол-во записей')\n",
    "plt.show()"
   ]
  },
  {
   "cell_type": "code",
   "execution_count": 16,
   "metadata": {},
   "outputs": [
    {
     "name": "stdout",
     "output_type": "stream",
     "text": [
      "economy    7961\n",
      "minprom    7476\n",
      "minfin     7339\n",
      "mcx        3471\n",
      "minobr     3319\n",
      "Name: state_agency, dtype: int64\n"
     ]
    },
    {
     "data": {
      "image/png": "[encoded data removed]",
      "text/plain": [
       "<Figure size 432x288 with 1 Axes>"
      ]
     },
     "metadata": {
      "needs_background": "light"
     },
     "output_type": "display_data"
    }
   ],
   "source": [
    "#Анализ по агенствам\n",
    "pop_agency = dict(df_without_dup['state_agency'].value_counts().head(5))\n",
    "print(df_without_dup['state_agency'].value_counts().head(5))\n",
    "plt.title('Наиболее популярные агенства')\n",
    "plt.bar(pop_agency.keys(),pop_agency.values())\n",
    "plt.xlabel('Государсвенное агенство')\n",
    "plt.ylabel('Кол-во записей')\n",
    "plt.show()"
   ]
  },
  {
   "cell_type": "code",
   "execution_count": 32,
   "metadata": {},
   "outputs": [
    {
     "data": {
      "image/png": "[encoded data removed]",
      "text/plain": [
       "<Figure size 432x288 with 1 Axes>"
      ]
     },
     "metadata": {
      "needs_background": "light"
     },
     "output_type": "display_data"
    }
   ],
   "source": [
    "#Анализ по типу использования\n",
    "df_without_dup.loc['use_type'] = df_without_dup['use_type'].str.lower()\n",
    "use_type = df_without_dup['use_type'].value_counts()\n",
    "type_sum = df_without_dup.groupby('use_type')['use_meters'].sum().sort_values(ascending=False)\n",
    "type_sum[type_sum>0]\n",
    "\n",
    "# Слишком много единичных значений - засоряют\n",
    "type_sum.head(10)\n",
    "full_sum_head = dict(type_sum.head(10))\n",
    "plt.bar(full_sum_head.keys(),full_sum_head.values())\n",
    "plt.tick_params(axis='x', which='major', labelsize=3)\n",
    "plt.show()"
   ]
  },
  {
   "cell_type": "code",
   "execution_count": 18,
   "metadata": {},
   "outputs": [
    {
     "data": {
      "text/html": [
       "<div>\n",
       "<style scoped>\n",
       "    .dataframe tbody tr th:only-of-type {\n",
       "        vertical-align: middle;\n",
       "    }\n",
       "\n",
       "    .dataframe tbody tr th {\n",
       "        vertical-align: top;\n",
       "    }\n",
       "\n",
       "    .dataframe thead th {\n",
       "        text-align: right;\n",
       "    }\n",
       "</style>\n",
       "<table border=\"1\" class=\"dataframe\">\n",
       "  <thead>\n",
       "    <tr style=\"text-align: right;\">\n",
       "      <th></th>\n",
       "      <th></th>\n",
       "      <th>use_meters</th>\n",
       "    </tr>\n",
       "    <tr>\n",
       "      <th>state_agency</th>\n",
       "      <th>year</th>\n",
       "      <th></th>\n",
       "    </tr>\n",
       "  </thead>\n",
       "  <tbody>\n",
       "    <tr>\n",
       "      <th rowspan=\"5\" valign=\"top\">digital</th>\n",
       "      <th>2013</th>\n",
       "      <td>16749.020000</td>\n",
       "    </tr>\n",
       "    <tr>\n",
       "      <th>2014</th>\n",
       "      <td>16212.000000</td>\n",
       "    </tr>\n",
       "    <tr>\n",
       "      <th>2015</th>\n",
       "      <td>84821.079371</td>\n",
       "    </tr>\n",
       "    <tr>\n",
       "      <th>2016</th>\n",
       "      <td>91779.111931</td>\n",
       "    </tr>\n",
       "    <tr>\n",
       "      <th>2017</th>\n",
       "      <td>105727.863147</td>\n",
       "    </tr>\n",
       "    <tr>\n",
       "      <th>...</th>\n",
       "      <th>...</th>\n",
       "      <td>...</td>\n",
       "    </tr>\n",
       "    <tr>\n",
       "      <th rowspan=\"5\" valign=\"top\">mnr</th>\n",
       "      <th>2016</th>\n",
       "      <td>55497.176080</td>\n",
       "    </tr>\n",
       "    <tr>\n",
       "      <th>2017</th>\n",
       "      <td>62243.297053</td>\n",
       "    </tr>\n",
       "    <tr>\n",
       "      <th>2018</th>\n",
       "      <td>63400.607296</td>\n",
       "    </tr>\n",
       "    <tr>\n",
       "      <th>2019</th>\n",
       "      <td>61145.211931</td>\n",
       "    </tr>\n",
       "    <tr>\n",
       "      <th>2020</th>\n",
       "      <td>58972.016567</td>\n",
       "    </tr>\n",
       "  </tbody>\n",
       "</table>\n",
       "<p>127 rows × 1 columns</p>\n",
       "</div>"
      ],
      "text/plain": [
       "                      use_meters\n",
       "state_agency year               \n",
       "digital      2013   16749.020000\n",
       "             2014   16212.000000\n",
       "             2015   84821.079371\n",
       "             2016   91779.111931\n",
       "             2017  105727.863147\n",
       "...                          ...\n",
       "mnr          2016   55497.176080\n",
       "             2017   62243.297053\n",
       "             2018   63400.607296\n",
       "             2019   61145.211931\n",
       "             2020   58972.016567\n",
       "\n",
       "[127 rows x 1 columns]"
      ]
     },
     "execution_count": 18,
     "metadata": {},
     "output_type": "execute_result"
    }
   ],
   "source": [
    "#Задание 4\n",
    "#Группировка данных по годам и гос-агенствам\n",
    "df_1 = df_without_dup.groupby(['state_agency', 'year'])['use_meters'].agg('sum')\n",
    "sv_table = pd.DataFrame(df_1)\n",
    "sv_table\n"
   ]
  },
  {
   "cell_type": "code",
   "execution_count": 19,
   "metadata": {},
   "outputs": [
    {
     "name": "stdout",
     "output_type": "stream",
     "text": [
      "начальник отдела                      14151\n",
      "заместитель директора департамента    11327\n",
      "Референт                               4741\n",
      "директор департамента                  4169\n",
      "начальник отдела в департаменте        3789\n",
      "Name: position, dtype: int64\n"
     ]
    },
    {
     "data": {
      "image/png": "[encoded data removed]",
      "text/plain": [
       "<Figure size 432x288 with 1 Axes>"
      ]
     },
     "metadata": {
      "needs_background": "light"
     },
     "output_type": "display_data"
    }
   ],
   "source": [
    "#Анализ по должностям\n",
    "print(df_without_dup['position'].value_counts().head(5))\n",
    "pop_position = dict(df_without_dup['position'].value_counts().head(5))\n",
    "plt.bar(pop_position.keys(), pop_position.values())\n",
    "plt.tick_params(axis='x', which='major', labelsize=3)\n",
    "plt.show()"
   ]
  },
  {
   "cell_type": "code",
   "execution_count": null,
   "metadata": {},
   "outputs": [],
   "source": []
  }
 ],
 "metadata": {
  "kernelspec": {
   "display_name": "Python 3",
   "language": "python",
   "name": "python3"
  },
  "language_info": {
   "codemirror_mode": {
    "name": "ipython",
    "version": 3
   },
   "file_extension": ".py",
   "mimetype": "text/x-python",
   "name": "python",
   "nbconvert_exporter": "python",
   "pygments_lexer": "ipython3",
   "version": "3.8.10"
  }
 },
 "nbformat": 4,
 "nbformat_minor": 2
}
